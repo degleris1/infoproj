{
 "cells": [
  {
   "cell_type": "code",
   "execution_count": 2,
   "metadata": {
    "collapsed": false
   },
   "outputs": [
    {
     "name": "stderr",
     "output_type": "stream",
     "text": [
      "┌ Info: Recompiling stale cache file /Users/Bantin/.julia/compiled/v1.0/NPZ/TV7Kn.ji for NPZ [15e1cf62-19b3-5cfa-8e77-841668bca605]\n",
      "└ @ Base loading.jl:1184\n",
      "┌ Warning: Module Compat with build ID 228970451847506 is missing from the cache.\n",
      "│ This may mean Compat [34da2185-b29b-5c13-b0c7-acf172513d20] does not support precompilation but is imported by a module that does.\n",
      "└ @ Base loading.jl:941\n"
     ]
    }
   ],
   "source": [
    "using StatsBase\n",
    "using StatsPlots\n",
    "using NPZ"
   ]
  },
  {
   "cell_type": "code",
   "execution_count": 6,
   "metadata": {
    "collapsed": false
   },
   "outputs": [],
   "source": [
    "dat = npzread(\"../data/rawData.npy\");"
   ]
  },
  {
   "cell_type": "markdown",
   "metadata": {},
   "source": [
    "## First Order Entropy"
   ]
  },
  {
   "cell_type": "code",
   "execution_count": 12,
   "metadata": {
    "collapsed": false
   },
   "outputs": [
    {
     "data": {
      "text/plain": [
       "first_order_MB (generic function with 1 method)"
      ]
     },
     "execution_count": 12,
     "metadata": {},
     "output_type": "execute_result"
    }
   ],
   "source": [
    "function first_order_MB(arr)\n",
    "\"\"\"\n",
    "Estimate the number of MB needed to store a file based on its first-order entropy.\n",
    "\"\"\"\n",
    "    distr = StatsBase.proportions(arr)\n",
    "    H_1 = StatsBase.entropy(distr)\n",
    "    n_bits = H_1 * length(arr)\n",
    "    n_bytes = n_bits / 8\n",
    "    mb = n_bytes / 1000000\n",
    "    return mb \n",
    "end"
   ]
  },
  {
   "cell_type": "code",
   "execution_count": 14,
   "metadata": {
    "collapsed": false
   },
   "outputs": [
    {
     "data": {
      "text/plain": [
       "306.0906819261316"
      ]
     },
     "execution_count": 14,
     "metadata": {},
     "output_type": "execute_result"
    }
   ],
   "source": [
    "first_order_MB(dat)"
   ]
  }
 ],
 "metadata": {
  "anaconda-cloud": {},
  "kernelspec": {
   "display_name": "Julia 1.0.0",
   "language": "julia",
   "name": "julia-1.0"
  },
  "language_info": {
   "file_extension": ".jl",
   "mimetype": "application/julia",
   "name": "julia",
   "version": "1.0.0"
  }
 },
 "nbformat": 4,
 "nbformat_minor": 2
}
