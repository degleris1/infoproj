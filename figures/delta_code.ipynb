{
 "cells": [
  {
   "cell_type": "code",
   "execution_count": 1,
   "metadata": {
    "collapsed": false
   },
   "outputs": [
    {
     "name": "stderr",
     "output_type": "stream",
     "text": [
      "┌ Info: Recompiling stale cache file /Users/Bantin/.julia/compiled/v1.0/compress.ji for compress [top-level]\n",
      "└ @ Base loading.jl:1184\n"
     ]
    }
   ],
   "source": [
    "push!(LOAD_PATH, \"../src/\")\n",
    "using Revise\n",
    "import compress\n",
    "Revise.track(\"../src/compress.jl\") # reload module on save\n",
    "using NPZ\n",
    "using JLD"
   ]
  },
  {
   "cell_type": "code",
   "execution_count": 2,
   "metadata": {
    "collapsed": false
   },
   "outputs": [],
   "source": [
    "filename = \"../data/rawData.npy\"\n",
    "\n",
    "# Load data\n",
    "data = NPZ.npzread(filename);"
   ]
  },
  {
   "cell_type": "code",
   "execution_count": 3,
   "metadata": {
    "collapsed": false
   },
   "outputs": [],
   "source": [
    "compress.compress_pipeline(data, \"8bit_delta\", 8)\n",
    "compress.compress_pipeline(data, \"6bit_delta\", 6)\n",
    "compress.compress_pipeline(data, \"4bit_delta\", 4)"
   ]
  }
 ],
 "metadata": {
  "anaconda-cloud": {},
  "kernelspec": {
   "display_name": "Julia 1.0.0",
   "language": "julia",
   "name": "julia-1.0"
  },
  "language_info": {
   "file_extension": ".jl",
   "mimetype": "application/julia",
   "name": "julia",
   "version": "1.0.0"
  }
 },
 "nbformat": 4,
 "nbformat_minor": 2
}
